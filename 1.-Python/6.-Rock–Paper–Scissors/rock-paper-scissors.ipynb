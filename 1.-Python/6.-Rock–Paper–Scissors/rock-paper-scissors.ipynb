{
 "cells": [
  {
   "cell_type": "markdown",
   "metadata": {},
   "source": [
    "<img src=\"https://bit.ly/2VnXWr2\" width=\"100\" align=\"left\">"
   ]
  },
  {
   "cell_type": "markdown",
   "metadata": {},
   "source": [
    "# Rock, Paper & Scissors\n",
    "\n",
    "Let's play the famous game against our computer. You can check the rules [here](https://en.wikipedia.org/wiki/Rock%E2%80%93paper%E2%80%93scissors). \n",
    "\n",
    "## Task\n",
    "Create a program that imitates the playability of the well known game of rock, paper, scissors. Follow the guidelines provided.\n",
    "\n",
    "## Tools\n",
    "1. Loop: **for/while**\n",
    "2. Functions: **input(), print()...**\n",
    "3. Conditional statements: **if, elif, else**\n",
    "4. Definition of functions. Modular programming\n",
    "5. Import modules\n",
    "\n",
    "**To solve this challenge, the use of functions is recommended.**\n",
    "\n",
    "#### 1. Import the choice function of the random module."
   ]
  },
  {
   "cell_type": "code",
   "execution_count": 1,
   "metadata": {},
   "outputs": [],
   "source": [
    "from random import choice\n",
    "import random"
   ]
  },
  {
   "cell_type": "markdown",
   "metadata": {},
   "source": [
    "#### 2. Create a list that includes the 3 possible gesture options of the game: 'rock', 'paper' or 'scissors'. Store the list in a variable called `gestures`."
   ]
  },
  {
   "cell_type": "code",
   "execution_count": 2,
   "metadata": {},
   "outputs": [],
   "source": [
    "\n",
    "gestures = ['rock','paper','scissors']\n",
    "\n",
    "\n"
   ]
  },
  {
   "cell_type": "markdown",
   "metadata": {},
   "source": [
    "#### 3. Create a variable called `n_rounds` to store the maximum number of rounds to play in a game. \n",
    "Remember that the number of rounds must be odd: 1, 3, 5, ..."
   ]
  },
  {
   "cell_type": "code",
   "execution_count": 3,
   "metadata": {},
   "outputs": [],
   "source": [
    "n_rounds = 5"
   ]
  },
  {
   "cell_type": "markdown",
   "metadata": {},
   "source": [
    "#### 4. Create a variable called `rounds_to_win` to store the number of rounds that a player must win to win the game.\n",
    "**Hint**: the value stored in `rounds_to_win` depends on the value of `n_rounds`. "
   ]
  },
  {
   "cell_type": "code",
   "execution_count": 4,
   "metadata": {},
   "outputs": [],
   "source": [
    "rounds_to_win=2\n"
   ]
  },
  {
   "cell_type": "markdown",
   "metadata": {},
   "source": [
    "#### 5. Create two variables to store the number of rounds that the computer and the player have won. Call these variables `cpu_score` and `player_score`."
   ]
  },
  {
   "cell_type": "code",
   "execution_count": 5,
   "metadata": {},
   "outputs": [],
   "source": [
    "\n",
    "cpu_score=0\n",
    "\n",
    "player_score=0"
   ]
  },
  {
   "cell_type": "markdown",
   "metadata": {},
   "source": [
    "#### 6. Define a function that randomly returns one of the 3 gesture options.\n",
    "You will use this function to simulate the gesture choice of the computer. "
   ]
  },
  {
   "cell_type": "code",
   "execution_count": 6,
   "metadata": {},
   "outputs": [
    {
     "data": {
      "text/plain": [
       "'scissors'"
      ]
     },
     "execution_count": 6,
     "metadata": {},
     "output_type": "execute_result"
    }
   ],
   "source": [
    "def cpu_play():\n",
    "    return random.choice(gestures)\n",
    "cpu_play()"
   ]
  },
  {
   "cell_type": "markdown",
   "metadata": {},
   "source": [
    "#### 7. Define a function that asks the player which is the gesture he or she wants to show: 'rock', 'paper' or 'scissors'.\n",
    "The player should only be allowed to choose one of the 3 gesture options. If the player's choice is not rock, paper or scissors, keep asking until it is."
   ]
  },
  {
   "cell_type": "code",
   "execution_count": 7,
   "metadata": {},
   "outputs": [],
   "source": [
    "def player_choice():\n",
    "    while True:\n",
    "        option=input('Choice one of the options: rock , paper , scissors ')\n",
    "        if option == 'rock' or option == 'paper' or option=='scissors':\n",
    "            return str(option)\n",
    "#player()"
   ]
  },
  {
   "cell_type": "markdown",
   "metadata": {},
   "source": [
    "#### 8. Define a function that checks who won a round. \n",
    "The function should return 0 if there is a tie, 1 if the computer wins and 2 if the player wins."
   ]
  },
  {
   "cell_type": "code",
   "execution_count": 8,
   "metadata": {},
   "outputs": [],
   "source": [
    "def who_win(player,cpu):\n",
    "    if player == 'rock' and cpu == 'scissors':\n",
    "        return 2\n",
    "    elif player == 'rock' and cpu == 'paper':\n",
    "        return 1\n",
    "    elif player == 'scissors' and cpu == 'rock':\n",
    "        return 1\n",
    "    elif player == 'scissors' and cpu == 'paper':\n",
    "        return 2\n",
    "    elif player == 'paper' and cpu=='rock':\n",
    "        return 2\n",
    "    elif player == 'paper' and cpu=='scissors':\n",
    "        return 1\n",
    "    else:\n",
    "        return 0\n",
    "    "
   ]
  },
  {
   "cell_type": "markdown",
   "metadata": {},
   "source": [
    "#### 9. Define a function that prints the choice of the computer, the choice of the player and a message that announces who won the current round. \n",
    "You should also use this function to update the variables that count the number of rounds that the computer and the player have won. The score of the winner increases by one point. If there is a tie, the score does not increase."
   ]
  },
  {
   "cell_type": "code",
   "execution_count": 14,
   "metadata": {},
   "outputs": [],
   "source": [
    "def score_game(player_choice,cpu_choice):\n",
    "    result = who_win(player_choice,cpu_choice)\n",
    "    global player_score\n",
    "    \n",
    "    global cpu_score\n",
    "   \n",
    "    if result == 2:\n",
    "        player_score+=1\n",
    "        return f'player choice: {player_choice} | cpu_choice: {cpu_choice} \\nYou win this current game! \\n',player_score,cpu_score\n",
    "    elif result ==1:\n",
    "        cpu_score+=1\n",
    "        return f'player choice: {player_choice} | cpu_choice: {cpu_choice} \\nYou lost this current game! \\n',player_score,cpu_score\n",
    "    else:\n",
    "        return f'player choice: {player_choice} | cpu_choice: {cpu_choice} \\nNobody wins this current game, it is a tie! \\n',player_score,cpu_score\n",
    "    \n"
   ]
  },
  {
   "cell_type": "markdown",
   "metadata": {},
   "source": [
    "#### 10. Now it's time to code the execution of the game using the functions and variables you defined above. \n",
    "\n",
    "First, create a loop structure that repeats while no player reaches the minimum score necessary to win and the number of rounds is less than the maximum number of rounds to play in a game.  \n",
    "\n",
    "Inside the loop, use the functions and variables above to create the execution of a round: ask for the player's choice, generate the random choice of the computer, show the round results, update the scores, etc. "
   ]
  },
  {
   "cell_type": "code",
   "execution_count": 17,
   "metadata": {},
   "outputs": [
    {
     "name": "stdout",
     "output_type": "stream",
     "text": [
      "Choice one of the options: rock , paper , scissors scissors\n",
      "player choice: scissors | cpu_choice: scissors \n",
      "Nobody wins this current game, it is a tie! \n",
      "\n",
      "Choice one of the options: rock , paper , scissors paper\n",
      "player choice: paper | cpu_choice: scissors \n",
      "You lost this current game! \n",
      "\n",
      "Choice one of the options: rock , paper , scissors rock\n",
      "player choice: rock | cpu_choice: scissors \n",
      "You win this current game! \n",
      "\n",
      "Choice one of the options: rock , paper , scissors scissors\n",
      "player choice: scissors | cpu_choice: scissors \n",
      "Nobody wins this current game, it is a tie! \n",
      "\n",
      "Choice one of the options: rock , paper , scissors scissors\n",
      "player choice: scissors | cpu_choice: scissors \n",
      "Nobody wins this current game, it is a tie! \n",
      "\n",
      "\n",
      " \n",
      "The game it is over, It is a tie!, nobody wins :/\n"
     ]
    }
   ],
   "source": [
    "option = random.choice(['rock','paper','scissors'])\n",
    "round_n = 1\n",
    "player_score=0\n",
    "cpu_score=0\n",
    "\n",
    "while round_n <= n_rounds:\n",
    "    player = player_choice()\n",
    "    cpu = cpu_play()\n",
    "    current_result,player_score,cpu_score = score_game(player,cpu)\n",
    "\n",
    "    if player_score == rounds_to_win:\n",
    "        print('Congratulations you win the game!!')\n",
    "        break\n",
    "    elif cpu_score == rounds_to_win:\n",
    "        print('Sorry you lost the game :(')\n",
    "        break\n",
    "    else:\n",
    "        print(current_result)\n",
    "\n",
    "    round_n += 1\n",
    "else:\n",
    "    print('\\n \\nThe game it is over, It is a tie!, nobody wins :/')"
   ]
  },
  {
   "cell_type": "markdown",
   "metadata": {},
   "source": [
    "#### 11. Print the winner of the game based on who won more rounds.\n",
    "Remember that the game might be tied. "
   ]
  },
  {
   "cell_type": "code",
   "execution_count": 18,
   "metadata": {},
   "outputs": [
    {
     "name": "stdout",
     "output_type": "stream",
     "text": [
      "Choice one of the options: rock , paper , scissors rock\n",
      "player choice: rock | cpu_choice: scissors \n",
      "You win this current game! \n",
      "\n",
      "Choice one of the options: rock , paper , scissors rock\n",
      "Congratulations you win the game!!\n",
      "Choice one of the options: rock , paper , scissors rock\n",
      "player choice: rock | cpu_choice: scissors \n",
      "You win this current game! \n",
      "\n",
      "Choice one of the options: rock , paper , scissors rock\n",
      "player choice: rock | cpu_choice: scissors \n",
      "You win this current game! \n",
      "\n",
      "Choice one of the options: rock , paper , scissors rock\n",
      "player choice: rock | cpu_choice: scissors \n",
      "You win this current game! \n",
      "\n",
      "Congratulations you wins the game!,\n",
      "Results: 5 - 0 \n"
     ]
    }
   ],
   "source": [
    "round_n = 1\n",
    "player_score=0\n",
    "cpu_score=0\n",
    "\n",
    "while round_n <= n_rounds:\n",
    "    player = player_choice()\n",
    "    cpu = cpu_play()\n",
    "    current_result,player_score,cpu_score = score_game(player,cpu)\n",
    "\n",
    "    if player_score == rounds_to_win:\n",
    "        print('Congratulations you win the game!!')\n",
    "        \n",
    "    elif cpu_score == rounds_to_win:\n",
    "        print('Sorry you lost the game :(')\n",
    "        \n",
    "    else:\n",
    "        print(current_result)\n",
    "\n",
    "    round_n += 1\n",
    "\n",
    "if player_score>cpu_score:\n",
    "    print(f'Congratulations you wins the game!,\\nResults: {player_score} - {cpu_score} ')\n",
    "elif player_score<cpu_score:\n",
    "    print(f'You lost the game! :( try againg,\\nResults: {player_score} - {cpu_score}')\n",
    "else:\n",
    "    print('\\n \\nThe game it is over, It is a tie!, nobody wins :/')"
   ]
  },
  {
   "cell_type": "markdown",
   "metadata": {},
   "source": [
    "# Bonus: Rock, Paper, Scissors, Lizard & Spock\n",
    "![](images/rpsls.jpg)\n",
    "\n",
    "In this challenge, you need to improve the previous game by adding two new options. To know more about the rules of the improved version of rock, paper, scissors, check this [link](http://www.samkass.com/theories/RPSSL.html). \n",
    "\n",
    "In addition, you will also need to improve how the game interacts with the player: the number of rounds to play, which must be an odd number, will be requested to the user until a valid number is entered. Define a new function to make that request.\n",
    "\n",
    "**Hint**: Try to reuse the code that you already coded in the previous challenge. If your code is efficient, this bonus will only consist of simple modifications to the original game."
   ]
  },
  {
   "cell_type": "code",
   "execution_count": 25,
   "metadata": {},
   "outputs": [],
   "source": [
    "def cpu_play():\n",
    "    return random.choice(['rock','paper','scissors','lizard','spock'])\n",
    "\n",
    "def player_choice():\n",
    "    while True:\n",
    "        option=input('Choice one of the options: rock , paper , scissors, lizard, spock: ')\n",
    "        if option == 'rock' or option == 'paper' or option=='scissors' or option=='lizard' or option=='spock':\n",
    "            return str(option)\n",
    "                     \n",
    "\n",
    "def who_win(player,cpu):\n",
    "    if player == 'rock' and cpu == 'scissors':\n",
    "        return 2\n",
    "    elif player == 'rock' and cpu == 'paper':\n",
    "        return 1\n",
    "    elif player == 'scissors' and cpu == 'rock':\n",
    "        return 1\n",
    "    elif player == 'scissors' and cpu == 'paper':\n",
    "        return 2\n",
    "    elif player == 'paper' and cpu=='rock':\n",
    "        return 2\n",
    "    elif player == 'paper' and cpu=='scissors':\n",
    "        return 1\n",
    "    elif player == 'lizard' and cpu=='paper':\n",
    "        return 2\n",
    "    elif player == 'lizard' and cpu=='spock':\n",
    "        return 2\n",
    "    elif player == 'lizard' and cpu=='rock':\n",
    "        return 1\n",
    "    elif player == 'lizard' and cpu=='scissors':\n",
    "        return 1\n",
    "    elif player == 'spock' and cpu=='rock':\n",
    "        return 2\n",
    "    elif player == 'spock' and cpu=='scissors':\n",
    "        return 2\n",
    "    elif player == 'spock' and cpu=='paper':\n",
    "        return 1\n",
    "    elif player == 'spock' and cpu=='lizard':\n",
    "        return 1\n",
    "    \n",
    "    else:\n",
    "        return 0\n",
    "                     \n",
    "def score_game(player_choice,cpu_choice):\n",
    "    result = who_win(player_choice,cpu_choice)\n",
    "    global player_score\n",
    "    \n",
    "    global cpu_score\n",
    "   \n",
    "    if result == 2:\n",
    "        player_score+=1\n",
    "        return f'player choice: {player_choice} | cpu_choice: {cpu_choice} \\nYou win this current game! \\n',player_score,cpu_score\n",
    "    elif result ==1:\n",
    "        cpu_score+=1\n",
    "        return f'player choice: {player_choice} | cpu_choice: {cpu_choice} \\nYou lost this current game! \\n',player_score,cpu_score\n",
    "    else:\n",
    "        return f'player choice: {player_choice} | cpu_choice: {cpu_choice} \\nNobody wins this current game, it is a tie! \\n',player_score,cpu_score\n",
    "    "
   ]
  },
  {
   "cell_type": "code",
   "execution_count": 26,
   "metadata": {},
   "outputs": [
    {
     "name": "stdout",
     "output_type": "stream",
     "text": [
      "Choice one of the options: rock , paper , scissors, lizard, spock: lizard\n",
      "player choice: lizard | cpu_choice: spock \n",
      "You win this current game! \n",
      "\n",
      "Choice one of the options: rock , paper , scissors, lizard, spock: rock\n",
      "player choice: rock | cpu_choice: rock \n",
      "Nobody wins this current game, it is a tie! \n",
      "\n",
      "Choice one of the options: rock , paper , scissors, lizard, spock: spock\n",
      "player choice: spock | cpu_choice: spock \n",
      "Nobody wins this current game, it is a tie! \n",
      "\n",
      "Choice one of the options: rock , paper , scissors, lizard, spock: scissors\n",
      "Congratulations you win the game!!\n"
     ]
    }
   ],
   "source": [
    "round_n = 1\n",
    "player_score=0\n",
    "cpu_score=0\n",
    "rounds_to_win=2\n",
    "n_rounds = 5\n",
    "\n",
    "while round_n <= n_rounds:\n",
    "    player = player_choice()\n",
    "    cpu = cpu_play()\n",
    "    current_result,player_score,cpu_score = score_game(player,cpu)\n",
    "\n",
    "    if player_score == rounds_to_win:\n",
    "        print('Congratulations you win the game!!')\n",
    "        break\n",
    "    elif cpu_score == rounds_to_win:\n",
    "        print('Sorry you lost the game :(')\n",
    "        break\n",
    "    else:\n",
    "        print(current_result)\n",
    "\n",
    "    round_n += 1\n",
    "else:\n",
    "    print('\\n \\nThe game it is over, It is a tie!, nobody wins :/')"
   ]
  },
  {
   "cell_type": "code",
   "execution_count": null,
   "metadata": {},
   "outputs": [],
   "source": []
  }
 ],
 "metadata": {
  "kernelspec": {
   "display_name": "Python 3",
   "language": "python",
   "name": "python3"
  },
  "language_info": {
   "codemirror_mode": {
    "name": "ipython",
    "version": 3
   },
   "file_extension": ".py",
   "mimetype": "text/x-python",
   "name": "python",
   "nbconvert_exporter": "python",
   "pygments_lexer": "ipython3",
   "version": "3.9.5"
  }
 },
 "nbformat": 4,
 "nbformat_minor": 2
}
