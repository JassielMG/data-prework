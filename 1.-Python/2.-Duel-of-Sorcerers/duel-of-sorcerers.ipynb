{
 "cells": [
  {
   "cell_type": "markdown",
   "metadata": {},
   "source": [
    "<img src=\"https://bit.ly/2VnXWr2\" width=\"100\" align=\"left\">"
   ]
  },
  {
   "cell_type": "markdown",
   "metadata": {},
   "source": [
    "# Duel of Sorcerers\n",
    "You are witnessing an epic battle between two powerful sorcerers: Gandalf and Saruman. Each sorcerer has 10 spells of variable power in their mind and they are going to throw them one after the other. The winner of the duel will be the one who wins more of those clashes between spells. Spells are represented as a list of 10 integers whose value equals the power of the spell.\n",
    "```\n",
    "gandalf = [10, 11, 13, 30, 22, 11, 10, 33, 22, 22]\n",
    "saruman = [23, 66, 12, 43, 12, 10, 44, 23, 12, 17]\n",
    "```\n",
    "For example:\n",
    "- The first clash is won by Saruman: 10 against 23.\n",
    "- The second clash is won by Saruman: 11 against 66.\n",
    "- ...\n",
    "\n",
    "You will create two variables, one for each sorcerer, where the sum of clashes won will be stored. Depending on which variable is greater at the end of the duel, you will show one of the following three results on the screen:\n",
    "* Gandalf wins\n",
    "* Saruman wins\n",
    "* Tie\n",
    "\n",
    "<img src=\"images/content_lightning_bolt_big.jpg\" width=\"400\">"
   ]
  },
  {
   "cell_type": "markdown",
   "metadata": {},
   "source": [
    "## Tools\n",
    "You don't necessarily need to use all the tools. Maybe you opt to use some of them or completely different ones, they are given to help you shape the exercise. Programming exercises can be solved in many different ways.\n",
    "\n",
    "1. Data structures: **lists, dictionaries**\n",
    "2. Loop: **for loop**\n",
    "3. Conditional statements: **if-elif-else**\n",
    "4. Functions: **range(), len(), print()**\n",
    "\n",
    "## Tasks\n",
    "\n",
    "#### 1. Create two variables called `gandalf` and `saruman` and assign them the spell power lists. Create a variable called `spells` to store the number of spells that the sorcerers cast. "
   ]
  },
  {
   "cell_type": "code",
   "execution_count": 1,
   "metadata": {},
   "outputs": [],
   "source": [
    "gandalf = [10, 11, 13, 30, 22, 11, 10, 33, 22, 22]\n",
    "saruma = [23, 66, 12, 43, 12, 10, 44, 23, 12, 17]\n",
    "spell = []"
   ]
  },
  {
   "cell_type": "markdown",
   "metadata": {},
   "source": [
    "#### 2. Create two variables called `gandalf_wins` and `saruman_wins`. Set both of them to 0. \n",
    "You will use these variables to count the number of clashes each sorcerer wins. "
   ]
  },
  {
   "cell_type": "code",
   "execution_count": 6,
   "metadata": {},
   "outputs": [],
   "source": [
    "gandalf_wins = 0\n",
    "saruma_wins = 0\n",
    "tie=0\n"
   ]
  },
  {
   "cell_type": "markdown",
   "metadata": {},
   "source": [
    "#### 3. Using the lists of spells of both sorcerers, update variables `gandalf_wins` and `saruman_wins` to count the number of times each sorcerer wins a clash. "
   ]
  },
  {
   "cell_type": "code",
   "execution_count": 8,
   "metadata": {},
   "outputs": [],
   "source": [
    "for g,s in zip(gandalf,saruma):\n",
    "    if g > s:\n",
    "        gandalf_wins+=1\n",
    "    elif g<s:\n",
    "        saruma_wins+=1\n",
    "    else:\n",
    "        tie+=1\n"
   ]
  },
  {
   "cell_type": "markdown",
   "metadata": {},
   "source": [
    "#### 4. Who won the battle?\n",
    "Print `Gandalf wins`, `Saruman wins` or `Tie` depending on the result."
   ]
  },
  {
   "cell_type": "code",
   "execution_count": 71,
   "metadata": {},
   "outputs": [
    {
     "name": "stdout",
     "output_type": "stream",
     "text": [
      " The winner is The sorcer Gandalf \n",
      " results: 6 - 4\n"
     ]
    }
   ],
   "source": [
    "if gandalf_wins>saruma_wins:\n",
    "    print(\" The winner is The sorcer Gandalf \\n results:\",gandalf_wins,'-',saruma_wins)\n",
    "elif gandalf_wins<saruma_wins:\n",
    "    print(\" The winner is The sorcer Saruma \\n results:\",gandalf_wins,'-',saruma_wins)\n",
    "else:\n",
    "    print(\"This is a tie\")"
   ]
  },
  {
   "cell_type": "markdown",
   "metadata": {},
   "source": [
    "## Bonus\n",
    "\n",
    "In this bonus challenge, you'll need to check the winner of the battle but this time, a sorcerer wins if he succeeds in winning 3 spell clashes in a row.\n",
    "\n",
    "Also, the spells now have a name and there is a dictionary that associates that name to a power.\n",
    "\n",
    "```\n",
    "POWER = {\n",
    "    'Fireball': 50, \n",
    "    'Lightning bolt': 40, \n",
    "    'Magic arrow': 10, \n",
    "    'Black Tentacles': 25, \n",
    "    'Contagion': 45\n",
    "}\n",
    "\n",
    "gandalf = ['Fireball', 'Lightning bolt', 'Lightning bolt', 'Magic arrow', 'Fireball', \n",
    "           'Magic arrow', 'Lightning bolt', 'Fireball', 'Fireball', 'Fireball']\n",
    "saruman = ['Contagion', 'Contagion', 'Black Tentacles', 'Fireball', 'Black Tentacles', \n",
    "           'Lightning bolt', 'Magic arrow', 'Contagion', 'Magic arrow', 'Magic arrow']\n",
    "```\n",
    "\n",
    "#### 1. Create variables `POWER`, `gandalf` and `saruman` as seen above. Create a variable called `spells` to store the number of spells that the sorcerers cast. "
   ]
  },
  {
   "cell_type": "code",
   "execution_count": 143,
   "metadata": {},
   "outputs": [],
   "source": [
    "POWER = {\n",
    "    'Fireball': 50, \n",
    "    'Lightning bolt': 40, \n",
    "    'Magic arrow': 10, \n",
    "    'Black Tentacles': 25, \n",
    "    'Contagion': 45\n",
    "}\n",
    "\n",
    "gandalf = ['Fireball', 'Lightning bolt', 'Lightning bolt', 'Magic arrow', 'Fireball', \n",
    "           'Magic arrow', 'Lightning bolt', 'Fireball', 'Fireball', 'Fireball']\n",
    "saruman = ['Contagion', 'Contagion', 'Black Tentacles', 'Fireball', 'Black Tentacles', \n",
    "           'Lightning bolt', 'Magic arrow', 'Contagion', 'Magic arrow', 'Magic arrow']\n",
    "spells = 0"
   ]
  },
  {
   "cell_type": "markdown",
   "metadata": {},
   "source": [
    "#### 2. Create two variables called `gandalf_wins` and `saruman_wins`. Set both of them to 0. "
   ]
  },
  {
   "cell_type": "code",
   "execution_count": 144,
   "metadata": {},
   "outputs": [],
   "source": [
    "gandalf_wins = 0\n",
    "saruma_wins = 0\n",
    "tie = 0"
   ]
  },
  {
   "cell_type": "markdown",
   "metadata": {},
   "source": [
    "#### 3. Create two variables called `gandalf_power` and `saruman_power` to store the list of spell powers of each sorcerer."
   ]
  },
  {
   "cell_type": "code",
   "execution_count": 145,
   "metadata": {},
   "outputs": [],
   "source": [
    "gandalf_power = []\n",
    "saruma_power = []\n"
   ]
  },
  {
   "cell_type": "markdown",
   "metadata": {},
   "source": [
    "#### 4. The battle starts! Using the variables you've created above, code the execution of spell clashes. Remember that a sorcerer wins if he succeeds in winning 3 spell clashes in a row. \n",
    "If a clash ends up in a tie, the counter of wins in a row is not restarted to 0. Remember to print who is the winner of the battle. "
   ]
  },
  {
   "cell_type": "code",
   "execution_count": 146,
   "metadata": {},
   "outputs": [
    {
     "name": "stdout",
     "output_type": "stream",
     "text": [
      "The winner is Gandalf \n",
      " Final results: \n",
      " Gandalf:3 - Saruman:2 \n",
      " Gandalf spells cast: ['Fireball', 'Lightning bolt', 'Fireball'] total: 3 \n",
      " Saruma spells cast: ['Contagion', 'Fireball'] total: 2 \n",
      " Total spells cast in battle: 5\n"
     ]
    }
   ],
   "source": [
    "for i,(g,s) in enumerate(zip(gandalf,saruman)):\n",
    "    if POWER[g] > POWER[s]:\n",
    "        gandalf_power.append(g)\n",
    "        gandalf_wins += 1\n",
    "        spells+=1\n",
    "\n",
    "        if gandalf_wins == 3:\n",
    "            print(f'The winner is Gandalf \\n Final results: \\n Gandalf:{gandalf_wins} - Saruman:{saruma_wins} \\n Gandalf spells cast: {gandalf_power} total: {len(gandalf_power)} \\n Saruma spells cast: {saruma_power} total: {len(saruma_power)} \\n Total spells cast in battle: {spells}')\n",
    "            break\n",
    "\n",
    "    elif  POWER[g] < POWER[s]:\n",
    "        saruma_power.append(s)\n",
    "        saruma_wins += 1\n",
    "        spells+=1\n",
    "\n",
    "        if gandalf_wins == 3:\n",
    "            print(f'The winner is Saruman \\n Final results: \\n Gandalf:{gandalf_wins} - Saruman:{saruma_wins} \\n  Gandalf spells cast: {gandalf_power} total: {len(gandalf_power)} \\n Saruma spells cast: {saruma_power} total: {len(saruma_power)} \\n Total spells cast in battle: {spells}')\n",
    "            break\n",
    "\n",
    "    else:\n",
    "        tie+=1\n",
    "\n",
    "if gandalf_wins < 3 & saruma_wins <3:\n",
    "    print(f'The result is a tie \\n total spells:{spells}')\n",
    "\n",
    "            "
   ]
  },
  {
   "cell_type": "markdown",
   "metadata": {},
   "source": [
    "#### 5. Find the average spell power of Gandalf and Saruman. "
   ]
  },
  {
   "cell_type": "code",
   "execution_count": 169,
   "metadata": {},
   "outputs": [
    {
     "name": "stdout",
     "output_type": "stream",
     "text": [
      "the average power of gandalf is:  39.0\n",
      "the average power of saruman is:  30.5\n"
     ]
    }
   ],
   "source": [
    "import numpy as np\n",
    "\n",
    "total_power_gandalf=[]\n",
    "total_power_saruma=[]\n",
    "for i,(g,s) in enumerate(zip(gandalf,saruman)):\n",
    "    total_power_gandalf.append(POWER[g])\n",
    "    total_power_saruma.append(POWER[s])\n",
    "\n",
    "#np.mean(total_power_saruma)\n",
    "#np.mean(total_power_gandalf)\n",
    "    \n",
    "avg_power_saruma=sum(total_power_saruma)/len(saruman)\n",
    "avg_power_gandalf=sum(total_power_gandalf)/len(gandalf)\n",
    "\n",
    "print('the average power of gandalf is: ',avg_power_gandalf)\n",
    "print('the average power of saruman is: ',avg_power_saruma)"
   ]
  },
  {
   "cell_type": "markdown",
   "metadata": {},
   "source": [
    "#### 6. Find the standard deviation of the spell power of Gandalf and Saruman. d"
   ]
  },
  {
   "cell_type": "code",
   "execution_count": 170,
   "metadata": {},
   "outputs": [
    {
     "name": "stdout",
     "output_type": "stream",
     "text": [
      "The standard desviation power of saruma is 15.56438241627338\n",
      "The standard desviation power of gandalf is 15.132745950421556\n"
     ]
    }
   ],
   "source": [
    "import numpy as np\n",
    "import math \n",
    "#np.std(total_power_gandalf)\n",
    "#np.std(total_power_saruma)\n",
    "\n",
    "variance_gandalf_power = sum([(i-avg_power_gandalf)**2 for i in total_power_gandalf])/len(total_power_gandalf)\n",
    "variance_saruma_power = sum([(i-avg_power_saruma)**2 for i in total_power_saruma])/len(total_power_saruma)\n",
    "\n",
    "std_gandalf = math.sqrt(variance_gandalf_power)\n",
    "std_saruma = math.sqrt(variance_saruma_power)\n",
    "\n",
    "print('The standard desviation power of saruma is',std_saruma)\n",
    "print('The standard desviation power of gandalf is',std_gandalf)\n"
   ]
  }
 ],
 "metadata": {
  "kernelspec": {
   "display_name": "Python 3",
   "language": "python",
   "name": "python3"
  },
  "language_info": {
   "codemirror_mode": {
    "name": "ipython",
    "version": 3
   },
   "file_extension": ".py",
   "mimetype": "text/x-python",
   "name": "python",
   "nbconvert_exporter": "python",
   "pygments_lexer": "ipython3",
   "version": "3.8.3"
  }
 },
 "nbformat": 4,
 "nbformat_minor": 2
}
